{
    "nbformat": 4, 
    "nbformat_minor": 0, 
    "metadata": {
        "language_info": {
            "version": "2.7.11", 
            "pygments_lexer": "ipython2", 
            "mimetype": "text/x-python", 
            "codemirror_mode": {
                "name": "ipython", 
                "version": 2
            }, 
            "name": "python", 
            "nbconvert_exporter": "python", 
            "file_extension": ".py"
        }, 
        "kernelspec": {
            "language": "python", 
            "name": "python2", 
            "display_name": "Python 2 with Spark 1.6"
        }
    }, 
    "cells": [
        {
            "source": "! git --version", 
            "execution_count": 1, 
            "outputs": [
                {
                    "output_type": "stream", 
                    "name": "stdout", 
                    "text": "git version 1.8.3.1\r\n"
                }
            ], 
            "metadata": {
                "collapsed": false
            }, 
            "cell_type": "code"
        }, 
        {
            "source": "\n# @hidden_cell\ncredentials_2 = {\n  'username':'aaaaa',\n  'password':\"\"\"bbbb\"\"\",\n  'host':'ddddd',\n  'port':'443',\n  'url':'https://ccccc@ddddd-bluemix.cloudant.com'\n}\n", 
            "execution_count": null, 
            "outputs": [], 
            "metadata": {
                "collapsed": true
            }, 
            "cell_type": "code"
        }
    ]
}